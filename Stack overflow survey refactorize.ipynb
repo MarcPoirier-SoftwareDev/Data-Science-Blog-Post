{
 "cells": [
  {
   "cell_type": "markdown",
   "id": "c9bc3417-a6f7-4110-a9e9-6c6a3cabdfbf",
   "metadata": {},
   "source": [
    "# Stack Overflow Survey - Data Science Project"
   ]
  },
  {
   "cell_type": "markdown",
   "id": "b10a18b6-4303-4cc8-ad8c-de95bcf24641",
   "metadata": {},
   "source": [
    "## 1. Business Understanding"
   ]
  },
  {
   "cell_type": "markdown",
   "id": "bee66fac-6ea7-4a51-8a7b-68a54ab40176",
   "metadata": {},
   "source": [
    "### Introduction"
   ]
  },
  {
   "cell_type": "markdown",
   "id": "93d06fc5-c225-4a56-ae12-a432bb7dfbef",
   "metadata": {},
   "source": [
    "The objective of this project is to Understand trends and patterns in the Stack Overflow developer community from 2017 onwards to provide insights for stakeholders such as tech companies, educators, and Stack Overflow itself."
   ]
  },
  {
   "cell_type": "markdown",
   "id": "1a00163c-71c2-49ab-afd1-a87736eb0448",
   "metadata": {},
   "source": [
    "In this project we study the Stack Overflow Survey - Multiple Years, which is publicly available [Here](https://survey.stackoverflow.co/)"
   ]
  },
  {
   "cell_type": "markdown",
   "id": "aa3c31a6-0e50-4a55-b025-3a1c6e87f030",
   "metadata": {},
   "source": [
    "### Questions to explore \n",
    "\n",
    "- Question 1 : How have the most common learning methods for coding changed over time?\n",
    "- Question 2 : How has the popularity of well-known programming languages evolved over time?\n",
    "- Question 3 : How does the adoption of AI vary across different age groups in 2024?\n",
    "- Question 4 : What are the most significant challenges for users utilizing AI code assistants or GenAI tools?"
   ]
  },
  {
   "cell_type": "markdown",
   "id": "349edb34-2227-48e3-b3b1-ed26a9059d64",
   "metadata": {},
   "source": [
    "These questions address real-world concerns such as AI adoption and AI challenges in tech, Popularity of programming language and educational trends."
   ]
  },
  {
   "cell_type": "code",
   "execution_count": 1,
   "id": "9e72bc75-8021-430c-9311-c9cea8a4c17d",
   "metadata": {},
   "outputs": [
    {
     "name": "stderr",
     "output_type": "stream",
     "text": [
      "C:\\Users\\Marc\\AppData\\Local\\Temp\\ipykernel_10492\\3115024508.py:10: MatplotlibDeprecationWarning: The seaborn styles shipped by Matplotlib are deprecated since 3.6, as they no longer correspond to the styles shipped by seaborn. However, they will remain available as 'seaborn-v0_8-<style>'. Alternatively, directly use the seaborn API instead.\n",
      "  plt.style.use('seaborn')\n"
     ]
    }
   ],
   "source": [
    "# Import necessary libraries\n",
    "import os\n",
    "import pandas as pd\n",
    "import matplotlib.pyplot as plt\n",
    "import seaborn as sns\n",
    "from matplotlib.patches import Patch\n",
    "import textwrap\n",
    "\n",
    "# Set visualization style for consistency\n",
    "plt.style.use('seaborn')"
   ]
  },
  {
   "cell_type": "code",
   "execution_count": null,
   "id": "e003a706-5023-4da7-b650-644594cc0b2b",
   "metadata": {},
   "outputs": [],
   "source": []
  },
  {
   "cell_type": "markdown",
   "id": "824493b1-34de-4aed-a00a-da281e7c7482",
   "metadata": {},
   "source": [
    "## 2. Data Understanding"
   ]
  },
  {
   "cell_type": "markdown",
   "id": "74a976a8-8698-46d9-847e-2401a2766fdc",
   "metadata": {},
   "source": [
    "### Data Gathering"
   ]
  },
  {
   "cell_type": "code",
   "execution_count": null,
   "id": "a8769138-ff38-4299-85b8-b6f5561a4d23",
   "metadata": {},
   "outputs": [
    {
     "name": "stdout",
     "output_type": "stream",
     "text": [
      "Loaded data for 2017: Stack-overflow-developper-survey\\stack-overflow-developer-survey-2017\\survey_results_public.csv\n",
      "Loaded data for 2017: Stack-overflow-developper-survey\\stack-overflow-developer-survey-2017\\survey_results_schema.csv\n"
     ]
    },
    {
     "name": "stderr",
     "output_type": "stream",
     "text": [
      "C:\\Users\\Marc\\AppData\\Local\\Temp\\ipykernel_10492\\3694247219.py:25: DtypeWarning: Columns (8,12,13,14,15,16,50,51,52,53,55,56,57,58,59,60,61,62,63,64,65,66,67,68,69,70,71,72,73,74,75,76,77,78,79,80,81,82,83,84,85,93,94,95,96,97,98,99,100,101,102,103,104,105,106,107,108,109,110,111,112,113,114,115,116,117,118,119,120,121,122,123,124,125,126,127,128) have mixed types. Specify dtype option on import or set low_memory=False.\n",
      "  df_public = pd.read_csv(public_file)\n"
     ]
    },
    {
     "name": "stdout",
     "output_type": "stream",
     "text": [
      "Loaded data for 2018: Stack-overflow-developper-survey\\stack-overflow-developer-survey-2018\\survey_results_public.csv\n",
      "Loaded data for 2018: Stack-overflow-developper-survey\\stack-overflow-developer-survey-2018\\survey_results_schema.csv\n",
      "Loaded data for 2019: Stack-overflow-developper-survey\\stack-overflow-developer-survey-2019\\survey_results_public.csv\n",
      "Loaded data for 2019: Stack-overflow-developper-survey\\stack-overflow-developer-survey-2019\\survey_results_schema.csv\n",
      "Loaded data for 2020: Stack-overflow-developper-survey\\stack-overflow-developer-survey-2020\\survey_results_public.csv\n",
      "Loaded data for 2020: Stack-overflow-developper-survey\\stack-overflow-developer-survey-2020\\survey_results_schema.csv\n",
      "Loaded data for 2021: Stack-overflow-developper-survey\\stack-overflow-developer-survey-2021\\survey_results_public.csv\n",
      "Loaded data for 2021: Stack-overflow-developper-survey\\stack-overflow-developer-survey-2021\\survey_results_schema.csv\n",
      "Loaded data for 2022: Stack-overflow-developper-survey\\stack-overflow-developer-survey-2022\\survey_results_public.csv\n",
      "Loaded data for 2022: Stack-overflow-developper-survey\\stack-overflow-developer-survey-2022\\survey_results_schema.csv\n",
      "Loaded data for 2023: Stack-overflow-developper-survey\\stack-overflow-developer-survey-2023\\survey_results_public.csv\n",
      "Loaded data for 2023: Stack-overflow-developper-survey\\stack-overflow-developer-survey-2023\\survey_results_schema.csv\n"
     ]
    }
   ],
   "source": [
    "# Define the main path to survey data\n",
    "main_path = 'Stack-overflow-developper-survey'\n",
    "\n",
    "def load_survey_data(directory_path):\n",
    "    \"\"\"\n",
    "    Load survey data and schema data from specified directories into separate DataFrames for each year.\n",
    "\n",
    "    Parameters:\n",
    "    - directory_path (str): Path to the main directory containing survey folders.\n",
    "\n",
    "    Returns:\n",
    "    - dict: Dictionaries with years as keys and DataFrames as values.\n",
    "    \"\"\"\n",
    "    survey_data = {}\n",
    "    survey_schema = {}\n",
    "    for folder in os.listdir(directory_path):\n",
    "        try:\n",
    "            year = int(folder[-4:])  # Extract year from folder name (last 4 characters)\n",
    "            if 2017 <= year <= 2024:\n",
    "                folder_path = os.path.join(directory_path, folder)\n",
    "                public_file = os.path.join(folder_path, 'survey_results_public.csv')\n",
    "                schema_file = os.path.join(folder_path, 'survey_results_schema.csv')\n",
    "                \n",
    "                # Load public data and add Year column\n",
    "                df_public = pd.read_csv(public_file)\n",
    "                df_public['Year'] = year  # Add year column for tracking\n",
    "                survey_data[year] = df_public\n",
    "                print(f\"Loaded data for {year}: {public_file}\")\n",
    "\n",
    "                # Load schema\n",
    "                df_schema = pd.read_csv(schema_file)\n",
    "                survey_schema[year] = df_schema\n",
    "                print(f\"Loaded data for {year}: {schema_file}\")\n",
    "                \n",
    "        except (ValueError, FileNotFoundError):\n",
    "            continue  # Skip folders with invalid names or missing files\n",
    "    return survey_data, survey_schema\n",
    "\n",
    "# Load all survey data and schema into two distinct dictionary\n",
    "survey_data , survey_schema = load_survey_data(main_path)"
   ]
  },
  {
   "cell_type": "markdown",
   "id": "0759b19f-d2c5-4891-b360-0fe9823bd660",
   "metadata": {},
   "source": [
    "### Data Assessment"
   ]
  },
  {
   "cell_type": "code",
   "execution_count": null,
   "id": "8c6162a6-f7f2-4ce5-bd0d-ac4cbc3a26b4",
   "metadata": {},
   "outputs": [],
   "source": [
    "## 1. Explore format of survey_data and survey_schema (type, structure, etc.)\n",
    "print(\"### Exploring survey_data and survey_schema ###\")\n",
    "print(f\"Type of survey_data: {type(survey_data)}\")\n",
    "print(f\"Type of survey_schema: {type(survey_schema)}\")\n",
    "print(f\"Years in survey_data: {list(survey_data.keys())}\")\n",
    "print(f\"Years in survey_schema: {list(survey_schema.keys())}\")"
   ]
  },
  {
   "cell_type": "code",
   "execution_count": null,
   "id": "6166cee1-0416-402c-8b71-bd07a508ca49",
   "metadata": {},
   "outputs": [],
   "source": [
    "# Check structure of one DataFrame in survey_data and survey_schema\n",
    "sample_year = 2024  # Assuming 2024 is present\n",
    "if sample_year in survey_data:\n",
    "    print(f\"\\nStructure of survey_data[{sample_year}]:\")\n",
    "    print(survey_data[sample_year].info())\n",
    "    print(f\"\\nStructure of survey_schema[{sample_year}]:\")\n",
    "    print(survey_schema[sample_year].info())"
   ]
  },
  {
   "cell_type": "code",
   "execution_count": null,
   "id": "c724edb0-60d1-415c-b632-18120187732c",
   "metadata": {},
   "outputs": [],
   "source": [
    "## 2. Give overall statistics for each DataFrame in survey_data\n",
    "print(\"\\n### Overall Statistics for survey_data ###\")\n",
    "for year, df in survey_data.items():\n",
    "    print(f\"\\nYear: {year}\")\n",
    "    print(f\"Number of rows: {df.shape[0]}\")\n",
    "    print(f\"Number of columns: {df.shape[1]}\")\n",
    "    print(f\"Missing values per column:\\n{df.isnull().sum()}\")\n",
    "    print(f\"Basic statistics:\\n{df.describe()}\")"
   ]
  },
  {
   "cell_type": "code",
   "execution_count": null,
   "id": "92556050-caef-4845-9e53-430a60b7c891",
   "metadata": {},
   "outputs": [],
   "source": [
    "# Disable truncation for columns and rows\n",
    "pd.set_option('display.max_columns', None)  # Show all columns\n",
    "pd.set_option('display.max_rows', None)     # Show al rows\n",
    "pd.set_option('display.width', None)        # Adjust width automatically\n",
    "pd.set_option('display.max_colwidth', None)"
   ]
  },
  {
   "cell_type": "code",
   "execution_count": null,
   "id": "c8f9df0d-b60b-4875-8906-6817af14c31a",
   "metadata": {},
   "outputs": [],
   "source": [
    "survey_schema[2017]"
   ]
  },
  {
   "cell_type": "code",
   "execution_count": null,
   "id": "45dfd2b8-223d-46a4-a117-68b852674a53",
   "metadata": {},
   "outputs": [],
   "source": [
    "survey_schema[2024]"
   ]
  },
  {
   "cell_type": "code",
   "execution_count": null,
   "id": "67668b04-e088-4962-b656-1cbe1875715b",
   "metadata": {},
   "outputs": [],
   "source": [
    "## 3. Use schema DataFrames in survey_schema to identify key columns\n",
    "key_columns = ['LearnCode', 'HaveWorkedLanguage', 'LanguageWorkedWith', 'LanguageHaveWorkedWith', 'Age', 'AIChallenges', 'AISelect', 'Language']\n",
    "print(\"\\n### Identifying Key Columns ###\")\n",
    "for year, schema_df in survey_schema.items():\n",
    "    if 'Column' in schema_df.columns:\n",
    "        available_key_columns = schema_df[schema_df['Column'].isin(key_columns)]['Column'].tolist()\n",
    "        print(f\"Year {year}: Available key columns - {available_key_columns}\")\n",
    "    else:\n",
    "        print(f\"Year {year}: Schema does not contain 'Column' field.\")\n",
    "print('---------------------------------------------')\n",
    "print('Change in schema structure: Column renamed in qname from 2021')\n",
    "print('---------------------------------------------')\n",
    "for year, schema_df in survey_schema.items():\n",
    "    if 'qname' in schema_df.columns:\n",
    "        available_key_columns = schema_df[schema_df['qname'].isin(key_columns)]['qname'].tolist()\n",
    "        print(f\"Year {year}: Available key columns - {available_key_columns}\")\n",
    "    else:\n",
    "        print(f\"Year {year}: Schema does not contain 'qname' field.\")"
   ]
  },
  {
   "cell_type": "code",
   "execution_count": null,
   "id": "12366451-887a-4cc6-9f6e-0ad60569c5af",
   "metadata": {},
   "outputs": [],
   "source": [
    "## 4. Head of raw data to verify data of interest in key columns\n",
    "print(\"\\n### Verifying Data in Key Columns ###\")\n",
    "for year, df in survey_data.items():\n",
    "    print(f\"\\nYear: {year}\")\n",
    "    available_columns = [col for col in key_columns if col in df.columns]\n",
    "    if available_columns:\n",
    "        print(f\"Head of key columns:\\n{df[available_columns].head(5)}\")\n",
    "        for col in available_columns:\n",
    "            print(f\"\\nValue counts for {col}:\\n{df[col].value_counts().head(5)}\")\n",
    "    else:\n",
    "        print(\"No key columns available for this year.\")"
   ]
  },
  {
   "cell_type": "markdown",
   "id": "b0c74abf-d54a-4d33-b104-cd2dbb266eb5",
   "metadata": {},
   "source": [
    "## 3. Data Preparation"
   ]
  },
  {
   "cell_type": "code",
   "execution_count": null,
   "id": "5f4352c3-f3ec-41cf-9dfe-4fbbb86aebbb",
   "metadata": {},
   "outputs": [],
   "source": [
    "# We prepare Data Cleaning functions for later use\n",
    "def clean_categorical_column(df, column_name, fill_value='Unknown'):\n",
    "    \"\"\"\n",
    "    Clean a categorical column by filling missing values and converting to category type.\n",
    "\n",
    "    Parameters:\n",
    "    - df (pd.DataFrame): Input DataFrame.\n",
    "    - column_name (str): Column to clean.\n",
    "    - fill_value (str): Value to fill missing entries (default: 'Unknown').\n",
    "\n",
    "    Returns:\n",
    "    - pd.Series: Cleaned categorical column.\n",
    "    \"\"\"\n",
    "    if column_name in df.columns:\n",
    "        return df[column_name].fillna(fill_value).astype('category')\n",
    "    return None\n",
    "\n",
    "def clean_numeric_column(df, column_name, strategy='median'):\n",
    "    \"\"\"\n",
    "    Clean a numeric column by imputing missing values with median or mean.\n",
    "\n",
    "    Parameters:\n",
    "    - df (pd.DataFrame): Input DataFrame.\n",
    "    - column_name (str): Column to clean.\n",
    "    - strategy (str): Imputation method ('median' or 'mean', default: 'median').\n",
    "\n",
    "    Returns:\n",
    "    - pd.Series: Cleaned numeric column.\n",
    "    \"\"\"\n",
    "    if column_name in df.columns:\n",
    "        if strategy == 'median':\n",
    "            fill_value = df[column_name].median()\n",
    "        else:\n",
    "            fill_value = df[column_name].mean()\n",
    "        return df[column_name].fillna(fill_value)\n",
    "    return None"
   ]
  },
  {
   "cell_type": "code",
   "execution_count": null,
   "id": "1a2b41f6-1494-4afe-9761-7bca077b947c",
   "metadata": {},
   "outputs": [],
   "source": [
    "def check_missing_values(key_columns, survey_data):\n",
    "    \"\"\"\n",
    "    Check and print the number of missing values in specified key columns for each year's survey data.\n",
    "\n",
    "    Parameters:\n",
    "    - key_columns (list of str): List of column names to check for missing values. \n",
    "    - survey_data (dict): Dictionary where keys are years (int or str) and values are pandas DataFrames \n",
    "                          containing survey data for that year.\n",
    "    \"\"\"\n",
    "    for year, df in survey_data.items():\n",
    "        print(f\"\\n### Missing Values in Key Columns for {year}:\")\n",
    "        available_columns = [col for col in key_columns if col in df.columns]\n",
    "        if available_columns:\n",
    "            print(df[available_columns].isnull().sum())\n",
    "        else:\n",
    "            print(\"No key columns available for this year.\")"
   ]
  },
  {
   "cell_type": "code",
   "execution_count": null,
   "id": "160c029a-35cd-4278-bbd2-7fba380da9bc",
   "metadata": {},
   "outputs": [],
   "source": []
  },
  {
   "cell_type": "code",
   "execution_count": null,
   "id": "a66701e8-b548-41da-91f0-121aadff59ad",
   "metadata": {},
   "outputs": [],
   "source": [
    "# Check missing values in key columns for each year\n",
    "check_missing_values(key_columns, survey_data)"
   ]
  },
  {
   "cell_type": "code",
   "execution_count": null,
   "id": "335c3b21-d366-43c1-81a0-b4e9efa515a4",
   "metadata": {},
   "outputs": [],
   "source": [
    "# Missing values are handled for the rest of the analysis by using the clean_categorical_column function on all categorical columns of interest.\n",
    "# Missing values are replace with the value 'Unknown'. Later to be filtered depending on the analysis requirement.\n",
    "for year, df in survey_data.items():\n",
    "    for col in key_columns:\n",
    "        if col in df.columns:\n",
    "            df[col] = clean_categorical_column(df, col)"
   ]
  },
  {
   "cell_type": "code",
   "execution_count": null,
   "id": "43f8f9ae-32dd-40f2-8d13-acf73b00540f",
   "metadata": {},
   "outputs": [],
   "source": [
    "# Check missing values again after cleaning in key columns for each year\n",
    "check_missing_values(key_columns, survey_data)"
   ]
  },
  {
   "cell_type": "markdown",
   "id": "0aa6d156-930f-4537-ac23-97507fa9526c",
   "metadata": {},
   "source": [
    "## 4. Data Analysis"
   ]
  },
  {
   "cell_type": "markdown",
   "id": "8cca9153-45a9-4f7b-8779-9f79fec963d0",
   "metadata": {},
   "source": [
    "This section uses the previous data to answer 4 questions of interest :\n",
    "- Question 1 : How have the most common learning methods for coding changed over time?\n",
    "- Question 2 : How has the popularity of well-known programming languages evolved over time?\n",
    "- Question 3 : How does the adoption of AI vary across different age groups in 2024?\n",
    "- Question 4 : What are the most significant challenges for users utilizing AI code assistants or GenAI tools?\n",
    "\n",
    "\n",
    "Each of those questions is addressed in 3 detailed steps:\n",
    "- Modelization\n",
    "- Visualization\n",
    "- Evaluation of results"
   ]
  },
  {
   "cell_type": "markdown",
   "id": "eb8115d8-3bde-4896-b6cc-4a83cc72c5b0",
   "metadata": {},
   "source": [
    "### Question 1: How have the most common learning methods for coding changed over time?"
   ]
  },
  {
   "cell_type": "markdown",
   "id": "4413bae8-2491-4e9b-950b-37883424540d",
   "metadata": {},
   "source": [
    "#### Modelization"
   ]
  },
  {
   "cell_type": "code",
   "execution_count": null,
   "id": "01b0765f-95af-4eca-97ee-63168e7ff8ac",
   "metadata": {},
   "outputs": [],
   "source": [
    "# Select relevant columns from 2021–2024 for future LearnCode analysis\n",
    "learncode_dfs = []\n",
    "for year in range(2021, 2025):\n",
    "    if year in survey_data and 'LearnCode' in survey_data[year].columns:\n",
    "        df = survey_data[year][['LearnCode', 'Year']].copy()\n",
    "        learncode_dfs.append(df)"
   ]
  },
  {
   "cell_type": "code",
   "execution_count": null,
   "id": "ee629cc2-cd67-4ae5-8a48-22e16c5a2175",
   "metadata": {},
   "outputs": [],
   "source": [
    "# Combine only the selected data\n",
    "learncode_data = pd.concat(learncode_dfs, ignore_index=True)"
   ]
  },
  {
   "cell_type": "code",
   "execution_count": null,
   "id": "c09a10f5-325c-44ac-8171-9f21292ed176",
   "metadata": {},
   "outputs": [],
   "source": [
    "# Drop rows with 'Unknown' LearnCode (optional, depending on analysis needs)\n",
    "learncode_data = learncode_data[learncode_data['LearnCode'] != 'Unknown']"
   ]
  },
  {
   "cell_type": "code",
   "execution_count": null,
   "id": "ff99a12e-7dc9-4504-bcee-318fc0dc80b2",
   "metadata": {},
   "outputs": [],
   "source": [
    "# Split and explode LearnCode\n",
    "learncode_data['LearnCode'] = learncode_data['LearnCode'].str.split(';')\n",
    "exploded_data = learncode_data.explode('LearnCode')"
   ]
  },
  {
   "cell_type": "code",
   "execution_count": null,
   "id": "954633b6-270b-4d7d-9380-7849c88c75e4",
   "metadata": {},
   "outputs": [],
   "source": [
    "# Checking on categories\n",
    "exploded_data['LearnCode'].value_counts()"
   ]
  },
  {
   "cell_type": "code",
   "execution_count": null,
   "id": "cc6e1d4f-0a17-4c37-af02-0bd33af7244d",
   "metadata": {},
   "outputs": [],
   "source": [
    "# Harmonize learning method entries\n",
    "learning_method_mapping = {\n",
    "    \"Other online resources (e.g., videos, blogs, forum)\": \"Other Online Resources\",\n",
    "    \"Other online resources (ex: videos, blogs, etc., online community)\": \"Other Online Resources\",\n",
    "    \"School (i.e., University, College, etc)\": \"School\",\n",
    "    \"Online Forum\": \"Other Online Resources\",\n",
    "    \"Other online resources (e.g., videos, blogs, forum, online community)\": \"Other Online Resources\",\n",
    "    \"Other online resources (ex: videos, blogs, etc)\": \"Other Online Resources\",\n",
    "    \"Colleague\": \"On the job training\"\n",
    "}\n",
    "\n",
    "exploded_data['LearnCode'] = exploded_data['LearnCode'].replace(learning_method_mapping)"
   ]
  },
  {
   "cell_type": "code",
   "execution_count": null,
   "id": "d4071ee5-78a7-4fce-8807-34515b701696",
   "metadata": {},
   "outputs": [],
   "source": [
    "# Checking again on categories\n",
    "exploded_data['LearnCode'].value_counts()"
   ]
  },
  {
   "cell_type": "code",
   "execution_count": null,
   "id": "dc4ba1da-529d-401f-ab69-7076fbcd1e8b",
   "metadata": {},
   "outputs": [],
   "source": [
    "# Calculate proportions\n",
    "respondents_per_year = learncode_data.groupby('Year').size().reset_index(name='total_respondents')\n",
    "method_counts = exploded_data.groupby(['Year', 'LearnCode']).size().reset_index(name='count')\n",
    "method_counts = method_counts.merge(respondents_per_year, on='Year')\n",
    "method_counts['proportion'] = method_counts['count'] / method_counts['total_respondents']"
   ]
  },
  {
   "cell_type": "code",
   "execution_count": null,
   "id": "5818568e-a4d7-4e84-adef-398d92a55165",
   "metadata": {},
   "outputs": [],
   "source": [
    "# Identify top methods\n",
    "top_methods = method_counts.groupby('Year').apply(lambda x: x.nlargest(5, 'proportion')).reset_index(drop=True)\n",
    "unique_top_methods = top_methods['LearnCode'].unique()\n",
    "filtered_data = method_counts[method_counts['LearnCode'].isin(unique_top_methods)]\n",
    "pivot_data = filtered_data.pivot(index='Year', columns='LearnCode', values='proportion').fillna(0)"
   ]
  },
  {
   "cell_type": "code",
   "execution_count": null,
   "id": "486f47e6-f4bf-4d7c-a670-d6a6b7839ac3",
   "metadata": {},
   "outputs": [],
   "source": [
    "pivot_data"
   ]
  },
  {
   "cell_type": "markdown",
   "id": "1038d786-08c0-4d4d-a748-d6bbee511efa",
   "metadata": {},
   "source": [
    "#### Visualization"
   ]
  },
  {
   "cell_type": "code",
   "execution_count": null,
   "id": "67d63a60-2fd0-4313-acdb-091a3b898e87",
   "metadata": {},
   "outputs": [],
   "source": [
    "# Plot\n",
    "pivot_data.plot(kind='line', marker='o', figsize=(12, 6))\n",
    "plt.title('Evolution of Top Learning Methods (2021–2024)')\n",
    "plt.xlabel('Year')\n",
    "plt.ylabel('Proportion of Respondents')\n",
    "plt.legend(title='Learning Method', bbox_to_anchor=(1.05, 1), loc='upper left')\n",
    "plt.grid(True)\n",
    "plt.xticks(range(2021, 2025))\n",
    "plt.tight_layout()\n",
    "plt.show()"
   ]
  },
  {
   "cell_type": "markdown",
   "id": "d57c6555-33ac-4682-9db2-bc98bc3d8166",
   "metadata": {},
   "source": [
    "#### Evaluation of results\r\n"
   ]
  },
  {
   "cell_type": "markdown",
   "id": "fcf249e3-e1ae-4f51-a007-fa3a04de09d1",
   "metadata": {},
   "source": [
    "**Overall Commentary**\n",
    "\n",
    "The data reveals several key trends in learning preferences from 2021 to 2024:\n",
    "\n",
    "\n",
    "- **Rise of Digital Learning**:  \n",
    "    - Other Online Resources and Online Courses or Certification remain highly utilized, with the latter showing consistent growth. This reflects a strong preference for digital, scalable learning solutions, likely due to their accessibility and relevance.  \n",
    "\n",
    "    - The sharp drop in Other Online Resources from 2021 to 2022, followed by a rebound, may suggest an initial exploration of alternatives before settling into a stable reliance on digital content.\n",
    "\n",
    "--------------------------\n",
    "\n",
    "- **Emphasis on Practical Skills**:  \n",
    "    - On the job training sees a remarkable rise from 2021 to 2023, leveling off in 2024. This underscores the growing importance of experiential learning, particularly in professional contexts where applicable skills are critical.\n",
    "\n",
    "\n",
    "---------------------------------------\n",
    "\n",
    "- **Decline of Traditional and Informal Methods**:  \n",
    "    - Books / Physical media peak in 2022 but decline thereafter, indicating a gradual move away from physical resources.  \n",
    "\n",
    "    - Friend or family member steadily decreases, suggesting that informal learning is being replaced by formal, structured options.  \n",
    "\n",
    "    - School peaks in 2022 but drops in subsequent years, pointing to a potential shift in preference away from conventional education systems.\n"
   ]
  },
  {
   "cell_type": "markdown",
   "id": "56889f27-7c76-4c7d-9603-6959995cf6fd",
   "metadata": {},
   "source": [
    "**Broader Implications**\n",
    "\n",
    "These trends highlight a shift toward flexible, digital, and practical learning methods over traditional or informal ones. Key takeaways for educational providers and employers include:\n",
    "\n",
    "- **Strengthening Digital Platforms**: The growing reliance on online courses and resources calls for continued investment in high-quality, accessible digital offerings.  \n",
    "\n",
    "- **Promoting Practical Training**: The surge in on-the-job training suggests a need to integrate more experiential learning opportunities into educational and professional development programs.  \n",
    "\n",
    "- **Innovating Traditional Education**: Schools may need to adapt—perhaps through hybrid models or specialized programs—to remain competitive in a changing learning landscape.\n",
    "\n",
    "This analysis offers a clear picture of evolving learning preferences from 2021 to 2024, emphasizing the importance of adaptability in meeting learners' needs.\n",
    "\n"
   ]
  },
  {
   "cell_type": "markdown",
   "id": "15aedc9a-3438-4766-919a-9b9ba6545a2a",
   "metadata": {},
   "source": [
    "### Question 2: How has the popularity of well-known programming languages evolved over time?"
   ]
  },
  {
   "cell_type": "markdown",
   "id": "7ff88080-7cf3-412c-8720-3bbeb4cae895",
   "metadata": {},
   "source": [
    "#### Modelization"
   ]
  },
  {
   "cell_type": "code",
   "execution_count": null,
   "id": "174abe16-c3a9-412b-80fb-a0b0b989b24d",
   "metadata": {},
   "outputs": [],
   "source": [
    "def get_language_column(year):\n",
    "    \"\"\"\n",
    "    Determine the language column name based on the survey year.\n",
    "\n",
    "    Parameters:\n",
    "    - year (int): Survey year.\n",
    "\n",
    "    Returns:\n",
    "    - str: Name of the language column for that year.\n",
    "    \"\"\"\n",
    "    if year == 2017:\n",
    "        return 'HaveWorkedLanguage'\n",
    "    elif 2018 <= year <= 2020:\n",
    "        return 'LanguageWorkedWith'\n",
    "    else:  # 2021–2024\n",
    "        return 'LanguageHaveWorkedWith'"
   ]
  },
  {
   "cell_type": "code",
   "execution_count": null,
   "id": "5263de75-7a0f-4e92-b70c-ebbc9b24974f",
   "metadata": {},
   "outputs": [],
   "source": [
    "def calculate_language_percentages(df, lang_column, target_languages):\n",
    "    \"\"\"\n",
    "    Calculate the percentage of respondents using each programming language.\n",
    "\n",
    "    Parameters:\n",
    "    - df (pd.DataFrame): Input DataFrame.\n",
    "    - lang_column (str): Column containing language data.\n",
    "    - target_languages (list): List of languages to analyze.\n",
    "\n",
    "    Returns:\n",
    "    - dict: Language percentages.\n",
    "    \"\"\"\n",
    "    if lang_column not in df.columns:\n",
    "        return {lang: 0 for lang in target_languages}  # Return 0% if column missing\n",
    "    lang_series = df[lang_column][df[lang_column] != 'Unknown']\n",
    "    lang_list = lang_series.str.split(';').apply(lambda x: [l.strip() for l in x])\n",
    "    total_respondents = len(lang_list)\n",
    "    if total_respondents == 0:\n",
    "        return {lang: 0 for lang in target_languages}\n",
    "    return {lang: (lang_list.apply(lambda x: lang in x).sum() / total_respondents * 100) \n",
    "            for lang in target_languages}"
   ]
  },
  {
   "cell_type": "code",
   "execution_count": null,
   "id": "d167d9cf-0e79-4b60-bfe8-df3aea62481a",
   "metadata": {},
   "outputs": [],
   "source": [
    "# Define languages to analyze\n",
    "languages = ['JavaScript', 'Python', 'SQL', 'Java', 'C#', 'C++', 'C']"
   ]
  },
  {
   "cell_type": "code",
   "execution_count": null,
   "id": "cdf20361-1309-4550-92be-4ddb39710ac7",
   "metadata": {},
   "outputs": [],
   "source": [
    "# Calculate language percentages for each year\n",
    "language_data = {\n",
    "    year: calculate_language_percentages(survey_data[year], get_language_column(year), languages)\n",
    "    for year in range(2017, 2025) if year in survey_data\n",
    "}"
   ]
  },
  {
   "cell_type": "code",
   "execution_count": null,
   "id": "045908e5-9452-4dd4-81fe-ea9b5a258b09",
   "metadata": {},
   "outputs": [],
   "source": [
    "popularity_df = pd.DataFrame(language_data).T"
   ]
  },
  {
   "cell_type": "code",
   "execution_count": null,
   "id": "2ff7c476-b22a-4d38-8aac-2f4752bf834b",
   "metadata": {},
   "outputs": [],
   "source": [
    "popularity_df"
   ]
  },
  {
   "cell_type": "markdown",
   "id": "935e8dee-f7ad-479b-8084-e305f73f38c3",
   "metadata": {},
   "source": [
    "#### Visualization"
   ]
  },
  {
   "cell_type": "code",
   "execution_count": null,
   "id": "f6af9c3b-6ed2-46a1-be8b-971c2b46cdab",
   "metadata": {},
   "outputs": [],
   "source": [
    "#  plot the result\n",
    "plt.figure(figsize=(12, 8))\n",
    "for lang in languages:\n",
    "    plt.plot(popularity_df.index, popularity_df[lang], marker='o', label=lang)\n",
    "plt.title('Popularity of Programming Languages (2017–2024)')\n",
    "plt.xlabel('Year')\n",
    "plt.ylabel('Percentage of Respondents (%)')\n",
    "plt.legend(title='Languages', bbox_to_anchor=(1.05, 0.5), loc='center left')\n",
    "plt.grid(True)\n",
    "plt.xticks(range(2017, 2025))\n",
    "plt.tight_layout()\n",
    "plt.show()"
   ]
  },
  {
   "cell_type": "markdown",
   "id": "5cd354b1-e131-4681-bc8d-c7b5d2f0b7e5",
   "metadata": {},
   "source": [
    "#### Evaluation of results"
   ]
  },
  {
   "cell_type": "markdown",
   "id": "3c870c40-846b-4e77-b20f-38f25e0f2ea4",
   "metadata": {},
   "source": [
    "**Overall Commentary**\n",
    "\n",
    "The data highlights distinct trends in programming language popularity over the eight-year period:\n",
    "\n",
    "- **JavaScript's Leadership**: JavaScript remains the most widely used language, despite a slight decline after 2018. Its dominance in web development ensures its continued relevance, with usage stabilizing above 60%.\n",
    "\n",
    "- **Python's Ascendance**: Python’s steady rise from 31.96% to 51.42% marks it as the standout gainer, nearly closing the gap with JavaScript. Its versatility across data science, AI, and web development fuels this growth.\n",
    "\n",
    "- **Decline of Java and C#**: Both Java and C# peak in 2018 but lose significant ground by 2024 (Java down ~15%, C# down ~7%). This may reflect competition from Python and JavaScript or shifts in enterprise and development preferences.\n",
    "\n",
    "- **SQL and C++ Stability**: SQL hovers around 50%, reinforcing its indispensability in data management, while C++ holds steady at ~23%, driven by its niche in high-performance applications.\n",
    "\n",
    "- **C’s Consistency**: C maintains a stable presence around 20%, supported by its use in education and systems programming, though it lacks the growth of higher-level languages.\n",
    "\n"
   ]
  },
  {
   "cell_type": "markdown",
   "id": "b21de905-8c7e-4e0a-a534-efcf2dd8eb6b",
   "metadata": {},
   "source": [
    "**Broader Implications**\n",
    "\n",
    "  These trends reveal a shifting programming landscape influenced by versatility and emerging technologies:\n",
    "\n",
    "- **Web and Data Focus**: The prominence of JavaScript and Python underscores the demand for skills in web development and data-related fields. Developers should prioritize these languages to stay competitive.\n",
    "\n",
    "- **Enterprise Evolution**: The decline of Java and C# suggests enterprises may be adapting to newer tools or languages like Python, signaling a need for modernization.\n",
    "\n",
    "- **Niche Resilience**: C++ and C retain stable usage in specialized areas, indicating sustained value for expertise in performance-oriented or foundational programming.\n",
    "\n",
    "This analysis offers a snapshot of how developer preferences have evolved from 2017 to 2024, reflecting the growing influence of web, data, and AI-driven technologies in shaping language popularity.\n",
    "\n"
   ]
  },
  {
   "cell_type": "markdown",
   "id": "2c91f5ab-829a-492a-945a-5e77ba0c1837",
   "metadata": {},
   "source": [
    "### Question 3: How does the adoption of AI vary across different age groups in 2024?"
   ]
  },
  {
   "cell_type": "markdown",
   "id": "dcf1a887-1dd8-4aa5-bd71-9aa0b10be3f7",
   "metadata": {},
   "source": [
    "#### Modelization "
   ]
  },
  {
   "cell_type": "code",
   "execution_count": null,
   "id": "6a7de738-f808-4e41-bdaa-3c335b317d9a",
   "metadata": {},
   "outputs": [],
   "source": [
    "# Access and copy 2024 data\n",
    "results_2024 = survey_data[2024].copy()"
   ]
  },
  {
   "cell_type": "code",
   "execution_count": null,
   "id": "ad869b46-d1e5-4a7e-9c4b-dab6df974bc6",
   "metadata": {},
   "outputs": [],
   "source": [
    "filtered_df = results_2024[(results_2024['AISelect'] != 'Unknown') & (results_2024['Age'] != 'Unknown')]"
   ]
  },
  {
   "cell_type": "code",
   "execution_count": null,
   "id": "8edec6b5-0dae-4ab7-a9ba-35aa385610bd",
   "metadata": {},
   "outputs": [],
   "source": [
    "filtered_df = filtered_df.copy()\n",
    "\n",
    "# Define a mapping to reformat age categories into concise labels\n",
    "age_mapping = {\n",
    "    'Under 18 years old': 'Under 18', \n",
    "    '18-24 years old': '18-24', \n",
    "    '25-34 years old': '25-34',\n",
    "    '35-44 years old': '35-44', \n",
    "    '45-54 years old': '45-54', \n",
    "    '55-64 years old': '55-64',\n",
    "    '65 years or older': '65 +', \n",
    "    'Prefer not to say': 'Prefer not to say'\n",
    "}\n",
    "\n",
    "# Rename the categories in the 'Age' column using the categorical accessor\n",
    "renamed_age = filtered_df['Age'].cat.rename_categories(age_mapping)\n",
    "\n",
    "# Assign the renamed categories to a new column 'age_clean' safely\n",
    "filtered_df.loc[:, 'age_clean'] = renamed_age"
   ]
  },
  {
   "cell_type": "code",
   "execution_count": null,
   "id": "c58db3d6-c7a4-4bb3-b3bb-7e011985d077",
   "metadata": {},
   "outputs": [],
   "source": [
    "# Create crosstab of AI adoption by age group\n",
    "ai_adoption_by_age = pd.crosstab(filtered_df['age_clean'], filtered_df['AISelect'], normalize='index') * 100"
   ]
  },
  {
   "cell_type": "code",
   "execution_count": null,
   "id": "10becfa9-d1c8-4f37-bbbe-70e1197d58ac",
   "metadata": {},
   "outputs": [],
   "source": [
    "filtered_df['AISelect'].value_counts()"
   ]
  },
  {
   "cell_type": "code",
   "execution_count": null,
   "id": "4dd0182f-f581-4337-8dda-d8725119934d",
   "metadata": {},
   "outputs": [],
   "source": [
    "ai_adoption_by_age"
   ]
  },
  {
   "cell_type": "markdown",
   "id": "758d7f0b-08b8-474f-b256-1c0af3af833b",
   "metadata": {},
   "source": [
    "#### Visualization"
   ]
  },
  {
   "cell_type": "code",
   "execution_count": null,
   "id": "a4209ed4-69b4-4279-8ff2-1c43a8a8ec4d",
   "metadata": {},
   "outputs": [],
   "source": []
  },
  {
   "cell_type": "code",
   "execution_count": null,
   "id": "7444d575-d755-4f43-b390-a227f8007855",
   "metadata": {},
   "outputs": [],
   "source": [
    "# Define order for plotting\n",
    "age_order = ['Under 18', '18-24', '25-34', '35-44', '45-54', '55-64', '65 +', 'Prefer not to say']\n",
    "ai_select_order = ['Yes', 'No, but I plan to soon', 'No, and I don\\'t plan to']\n",
    "ai_adoption_by_age = ai_adoption_by_age.loc[age_order, ai_select_order]"
   ]
  },
  {
   "cell_type": "code",
   "execution_count": null,
   "id": "e9481394-1fc7-41a2-81d1-85bf2407c7ef",
   "metadata": {},
   "outputs": [],
   "source": [
    "# Plot stacked bar chart\n",
    "ai_adoption_by_age.plot(kind='bar', stacked=True, figsize=(10, 6), color=['#2ecc71', '#f1c40f', '#e74c3c'])\n",
    "plt.title('AI Tool Adoption by Age Group (2024)')\n",
    "plt.xlabel('Age Group')\n",
    "plt.ylabel('Percentage (%)')\n",
    "plt.legend(title='AI Usage', bbox_to_anchor=(1.05, 1), loc='upper left')\n",
    "plt.xticks(rotation=45)\n",
    "plt.tight_layout()\n",
    "plt.show()"
   ]
  },
  {
   "cell_type": "markdown",
   "id": "d6deea1d-cf1c-4b15-8ed2-58f624587cbc",
   "metadata": {},
   "source": [
    "#### Evaluation of results"
   ]
  },
  {
   "cell_type": "markdown",
   "id": "c4ee2d47-ff44-4d1d-890b-9ad6bfeb07de",
   "metadata": {},
   "source": [
    "**Key Observations**\n",
    "\n",
    "- **Current AI Adoption (\"Yes\")**\n",
    "    - Younger age groups exhibit the highest adoption rates. The \"18-24\" group leads with 70.40%, followed by \"25-34\" at 65.57% and \"Under 18\" at 60.69%.\n",
    "\n",
    "    - Adoption declines steadily with age. The \"55-64\" group reports 40.89%, and the \"65+\" group has the lowest rate at 32.26%.\n",
    "\n",
    "    - The \"Prefer not to say\" group, with 44.40%, falls between the younger and older age groups, possibly reflecting a mix of ages or distinct behavioral traits.\n",
    "\n",
    "- **Future Intent to Adopt AI (\"No, but I plan to soon\")**\n",
    "    - Intent to adopt AI soon ranges from 8.75% (\"18-24\") to 22.13% (\"55-64\"), showing moderate variation across groups.\n",
    "\n",
    "    - Older age groups, particularly \"55-64\" (22.13%) and \"65+\" (20.43%), express higher intent despite lower current usage, suggesting a potential shift toward adoption in the near future.\n",
    "\n",
    "- Younger groups, like \"18-24\" (8.75%) and \"Under 18\" (9.93%), show lower intent, likely because many are already using AI.\n",
    "\n",
    "- **Lack of Interest in AI (\"No, and I don't plan to\")**\n",
    "    - Resistance to AI adoption increases with age. The \"18-24\" group has the lowest resistance at 20.85%, while \"65+\" has the highest at 47.31%.\n",
    "\n",
    "    - Middle age groups, such as \"35-44\" (25.91%) and \"45-54\" (27.99%), show moderate resistance, while \"Prefer not to say\" reports a high 41.88%, aligning closer to older groups."
   ]
  },
  {
   "cell_type": "markdown",
   "id": "73ba4876-8067-44ab-857c-67df65399472",
   "metadata": {},
   "source": [
    "**Overall Commentary**\n",
    "\n",
    "The 2024 survey data reveals a clear generational divide in AI adoption. Younger age groups (Under 18 to 34) are the most active users, with adoption rates exceeding 60%, likely due to greater exposure to AI in education, work, and daily life. In contrast, older groups (55-64 and 65+) show significantly lower adoption (below 41%) and higher resistance (up to 47.31%), possibly due to unfamiliarity or perceived irrelevance of AI to their needs.\n",
    "\n",
    "Interestingly, the \"55-64\" and \"65+\" groups express notable intent to adopt AI soon (22.13% and 20.43%, respectively), hinting at a potential narrowing of the adoption gap if barriers like accessibility or education are addressed. The \"Prefer not to say\" group’s mixed responses suggest it may encompass individuals across the age spectrum with varied attitudes toward AI.\n",
    "\n",
    "For stakeholders in AI development and policy, these findings highlight the need for targeted strategies—such as simplified tools or training programs—to boost adoption among older populations, while continuing to leverage the enthusiasm of younger users. The data underscores both the opportunities and challenges in achieving widespread AI engagement across all age demographics in 2024.\n",
    "\n"
   ]
  },
  {
   "cell_type": "code",
   "execution_count": null,
   "id": "e75980f6-ba5d-4861-8ed7-ed7b7d5ed7f8",
   "metadata": {},
   "outputs": [],
   "source": []
  },
  {
   "cell_type": "markdown",
   "id": "a1724287-5463-49c4-8398-b30a17cdee32",
   "metadata": {},
   "source": [
    "### Question 4: What are the most significant challenges for users utilizing AI code assistants or GenAI tools?\n"
   ]
  },
  {
   "cell_type": "markdown",
   "id": "43e3e4a6-fac3-450c-b149-75dfaf4ed077",
   "metadata": {},
   "source": [
    "#### Modelization"
   ]
  },
  {
   "cell_type": "code",
   "execution_count": null,
   "id": "ca469d54-efa8-41d1-a6b1-215089a8400b",
   "metadata": {},
   "outputs": [],
   "source": [
    "# Access and copy 2024 data for AI challenges\n",
    "challenge_data = survey_data[2024][['AIChallenges']].copy()\n",
    "total_respondents = challenge_data[challenge_data['AIChallenges'] != 'Unknown'].shape[0]"
   ]
  },
  {
   "cell_type": "code",
   "execution_count": null,
   "id": "8a02a6e9-076b-4071-8717-75cb8d01d487",
   "metadata": {},
   "outputs": [],
   "source": [
    "# Explode and count challenges\n",
    "challenge_data['AIChallenges'] = challenge_data['AIChallenges'].str.split(';')\n",
    "exploded_challenges = challenge_data.explode('AIChallenges')\n",
    "exploded_challenges = exploded_challenges[exploded_challenges['AIChallenges'] != 'Unknown']\n",
    "challenge_counts = exploded_challenges['AIChallenges'].value_counts()[:8]"
   ]
  },
  {
   "cell_type": "code",
   "execution_count": null,
   "id": "a7cca053-47ee-42cf-b07e-e7595e37ec1e",
   "metadata": {},
   "outputs": [],
   "source": [
    "challenge_counts"
   ]
  },
  {
   "cell_type": "markdown",
   "id": "5ec9c7ab-ded9-4a1f-8eff-f1ef47a443ff",
   "metadata": {},
   "source": [
    "#### visualization"
   ]
  },
  {
   "cell_type": "code",
   "execution_count": null,
   "id": "d7a8c08f-2b47-4120-a300-ad04d164f4d9",
   "metadata": {},
   "outputs": [],
   "source": [
    "# Plot pie charts for top 8 challenges\n",
    "fig, axes = plt.subplots(2, 4, figsize=(20, 10))\n",
    "axes = axes.flatten()\n",
    "colors = ['#4CAF50', '#D3D3D3']  # Green for Selected, Gray for Not Selected\n",
    "\n",
    "\n",
    "for i, challenge in enumerate(challenge_counts.index):\n",
    "    selected = challenge_counts[challenge]\n",
    "    sizes = [selected, total_respondents - selected]\n",
    "    axes[i].pie(sizes, colors=colors, autopct='%1.1f%%', startangle=90, textprops={'fontsize': 10})\n",
    "    axes[i].set_title(textwrap.fill(challenge, width=30), fontsize=10)\n",
    "\n",
    "# Add legend and title\n",
    "# Define handles and labels separately\n",
    "handles = [\n",
    "    Patch(facecolor='#4CAF50'),\n",
    "    Patch(facecolor='#D3D3D3')\n",
    "]\n",
    "labels = ['Selected', 'Not Selected']\n",
    "# Add the legend with both arguments\n",
    "fig.legend(handles, labels, loc='lower center', bbox_to_anchor=(0.5, 0.05), ncol=2)\n",
    "\n",
    "# Adjust the layout to add space\n",
    "# - bottom=0.15 reserves space for the legend\n",
    "# - top=0.85 increases space between the title and pie charts\n",
    "fig.subplots_adjust(bottom=0.15, top=0.85)\n",
    "\n",
    "fig.suptitle('Percentage of Respondents Selecting Each AI Challenge (2024)', fontsize=20)\n",
    "#plt.tight_layout()\n",
    "plt.show()"
   ]
  },
  {
   "cell_type": "markdown",
   "id": "36cae7c6-c4a2-464e-b03a-3b14f446997c",
   "metadata": {},
   "source": [
    "#### Evaluation of results"
   ]
  },
  {
   "cell_type": "markdown",
   "id": "fc0ca2ba-82b6-49e2-8837-1c72695dcb96",
   "metadata": {},
   "source": [
    "**Key Observations**\n",
    "\n",
    "\n",
    "- **1. Trust Issues Lead the Way**\n",
    "    - **Challenge**: \"Don’t trust the output or answers\"\n",
    "    - **Respondents**: 65.1 %\n",
    "    - **Insight**: The most frequently cited challenge reflects deep skepticism about the reliability of AI-generated outputs. This lack of trust could stem from inconsistent or incorrect results, posing a significant barrier to widespread adoption.  \n",
    "\n",
    "----------------------------\n",
    "\n",
    "- **2. Contextual Blind Spots**\n",
    "    - **Challenge**: \"AI tools lack context of codebase, internal architecture, and/or company knowledge\"\n",
    "    - **Respondents**: 61.9 %\n",
    "    - **Insight**: Nearly as prevalent as trust issues, this challenge highlights a critical limitation: AI tools often fail to understand the specific context of a user’s codebase or organization. This gap reduces their utility in complex, proprietary environments.\n",
    "\n",
    "-------------------------\n",
    "\n",
    "- **3. Security Policy Gaps**\n",
    "    - **Challenge**: \"We don’t have the right policies in place to reduce security risks\"\n",
    "    - **Respondents**: 32.5 %\n",
    "    - **Insight**: Over 12,000 respondents flagged inadequate security policies, suggesting that organizations are struggling to govern AI tools effectively and mitigate associated risks.\n",
    "\n",
    "----------------------\n",
    "\n",
    "- **4. Training Deficiencies**\n",
    "    - **Challenge**: \"Lack of proper training and education on new tools\"\n",
    "    - **Respondents**: 31.6 %\n",
    "    - **Insight**: Without sufficient training, users may not fully leverage AI tools, underscoring the need for educational investment to bridge this gap.\n",
    "\n",
    "------------------\n",
    "\n",
    "- **5. Uneven Adoption**\n",
    "    - **Challenge**: \"Not everyone uses them\"\n",
    "    - **Respondents**: 25.2 %\n",
    "    - **Insight**: Uneven adoption across teams or individuals could indicate resistance to change, lack of awareness, or perceived inefficacy of AI tools.\n",
    "\n",
    "-------------------\n",
    "\n",
    "- **6. Increased Workload**\n",
    "    - **Challenge**: \"They create more work (more code/PRs to review, etc.)\"\n",
    "    - **Respondents**: 13.8 %\n",
    "    - **Insight**: For some, AI tools add complexity rather than efficiency, such as generating additional code or pull requests that require review.\n",
    "\n",
    "-----------------------\n",
    "\n",
    "- **7. Leadership Support Lacking**\n",
    "    - **Challenge**: \"Lack of executive buy-in\"\n",
    "    - **Respondents**: 11.5 %\n",
    "    - **Insight**: Without leadership endorsement, AI adoption may stall, potentially due to unclear benefits or strategic misalignment.\n",
    "\n",
    "-----------------------\n",
    "\n",
    "- **8. Miscellaneous Concerns**\n",
    "    - **Challenge**: \"Other (please specify):\"\n",
    "    - **Respondents**: 6.3 %\n",
    "    - **Insight**: A smaller group identified unique or less common challenges, which could warrant further exploration to uncover niche issues."
   ]
  },
  {
   "cell_type": "markdown",
   "id": "66b31c1b-23cd-4114-956e-c5711a1a14db",
   "metadata": {},
   "source": [
    "**Commentary**\n",
    "\n",
    "The 2024 survey data paints a clear picture: trust and context are the twin pillars of AI tool challenges. The leading concern—lack of trust in AI outputs—suggests that users need greater transparency, accuracy, and validation mechanisms to feel confident in these tools. Closely related, the lack of contextual awareness reveals a technical limitation: AI tools must evolve to better integrate domain-specific knowledge and adapt to unique organizational needs.\n",
    "\n",
    "Beyond technical hurdles, organizational factors play a significant role. The absence of security policies and proper training indicates that successful AI adoption requires more than just better tools—it demands robust governance and user enablement. Meanwhile, issues like uneven adoption and increased workload hint at practical challenges: AI tools must streamline workflows rather than complicate them, and their value must be evident to all stakeholders, from users to executives.\n",
    "\n",
    "For developers and leaders, these findings highlight a dual mandate: enhance AI reliability and context-awareness while addressing human and organizational barriers. Overcoming these challenges will be essential to unlocking the transformative potential of AI code assistants and GenAI tools in 2024 and beyond.\n",
    "\n"
   ]
  },
  {
   "cell_type": "markdown",
   "id": "1d5a5bf8-5766-4c93-8181-cf52167f1c7d",
   "metadata": {},
   "source": [
    "## 5. Conclusion"
   ]
  },
  {
   "cell_type": "markdown",
   "id": "dcd764e8-65c9-47c3-8c89-383cacc0a8f5",
   "metadata": {},
   "source": [
    "Based on the analysis of Stack Overflow survey data from 2017 to 2024, the coding landscape has undergone significant evolution across multiple dimensions.\n",
    "\n",
    "- **Learning Methods**: Developers have increasingly shifted towards flexible, online resources and courses, moving away from traditional methods like books and in-person training.\n",
    "\n",
    "- **Language Popularity**: Versatile languages such as Python and JavaScript have grown in prominence, while languages like Java and C# have seen declining usage.\n",
    "\n",
    "- **AI Adoption**: In 2024, younger developers are more likely to embrace AI tools, whereas older developers exhibit greater skepticism or disinterest.\n",
    "\n",
    "- **AI Challenges**: Significant hurdles include trust in AI-generated outputs, lack of contextual understanding, and organizational barriers like insufficient training.\n",
    "\n",
    "Collectively, these trends highlight a move toward modernization and adaptability in the tech industry. The rise of digital learning and newer languages reflects changing skill demands, while AI’s growing role—tempered by persistent challenges—suggests that future success will depend on continuous learning and strategic integration of emerging technologies.\n",
    "\n"
   ]
  }
 ],
 "metadata": {
  "kernelspec": {
   "display_name": "Python 3 (ipykernel)",
   "language": "python",
   "name": "python3"
  },
  "language_info": {
   "codemirror_mode": {
    "name": "ipython",
    "version": 3
   },
   "file_extension": ".py",
   "mimetype": "text/x-python",
   "name": "python",
   "nbconvert_exporter": "python",
   "pygments_lexer": "ipython3",
   "version": "3.11.7"
  }
 },
 "nbformat": 4,
 "nbformat_minor": 5
}
